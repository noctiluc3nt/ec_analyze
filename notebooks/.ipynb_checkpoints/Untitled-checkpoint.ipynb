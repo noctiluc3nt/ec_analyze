{
 "cells": [
  {
   "cell_type": "markdown",
   "id": "3c5fd31d",
   "metadata": {},
   "source": [
    "# Step 1: Postprocessing of raw eddy-covariance data"
   ]
  },
  {
   "cell_type": "code",
   "execution_count": 1,
   "id": "b90ada49",
   "metadata": {},
   "outputs": [
    {
     "name": "stderr",
     "output_type": "stream",
     "text": [
      "Installing package into ‘/home/lauracma/R/x86_64-pc-linux-gnu-library/4.0’\n",
      "(as ‘lib’ is unspecified)\n",
      "\n"
     ]
    }
   ],
   "source": [
    "#loading Reddy package\n",
    "install.packages(\"../src/Reddy_0.0.0.9000.tar.gz\",repos=NULL,source=TRUE)\n",
    "library(Reddy)"
   ]
  },
  {
   "cell_type": "code",
   "execution_count": 2,
   "id": "3aecfef0",
   "metadata": {},
   "outputs": [],
   "source": [
    "#ec data files\n",
    "dir_in=\"../data/ec-data_10Hz\"\n",
    "files=list.files(dir_in,full.names=TRUE)\n",
    "nf=length(files)"
   ]
  },
  {
   "cell_type": "code",
   "execution_count": 3,
   "id": "d50c7020",
   "metadata": {},
   "outputs": [],
   "source": [
    "#allocate output\n",
    "var_out=c(\"time\",\"u_mean\",\"v_mean\",\"w_mean\",\"ws_mean\",\"wd_mean\",\"T_mean\",\"q_mean\",\"co2_mean\",\n",
    "          \"u_sd\",\"v_sd\",\"w_sd\",\"T_sd\",\"q_sd\",\"co2_sd\",\n",
    "          \"cov_uv\",\"cov_uw\",\"cov_vw\",\"cov_wT\",\"cov_qw\",\"cov_co2w\",\n",
    "          \"rot_angle1\",\"rot_angle2\",\"flag_stationarity\",\"flag_w\",\"flag_distortion\")\n",
    "nv=length(var_out)\n",
    "dat=data.frame(array(NA,dim=c(nf,nv)))\n",
    "colnames(dat)=var_out"
   ]
  },
  {
   "cell_type": "code",
   "execution_count": 6,
   "id": "4b643580",
   "metadata": {},
   "outputs": [
    {
     "name": "stdout",
     "output_type": "stream",
     "text": [
      "###############################################################################################################################"
     ]
    }
   ],
   "source": [
    "#postprocessing per file (30 mins)\n",
    "for (i in 1:nf) {\n",
    "    tmp=read.table(files[i],sep=\",\",header=T)\n",
    "    dat$time=tmp$X[1]\n",
    "    #despiking\n",
    "    tmp$T_degC=despiking(tmp$T_degC,-40,30)\n",
    "    tmp$u_m.s=despiking(tmp$u_m.s,-25,25)\n",
    "    tmp$v_m.s=despiking(tmp$v_m.s,-25,25)\n",
    "    tmp$w_m.s=despiking(tmp$w_m.s,-5,5)\n",
    "    #wind before rotation\n",
    "    dat$ws_mean=sqrt(mean(tmp$u_m.s,na.rm=T)^2+mean(tmp$v_m.s,na.rm=T)^2)\n",
    "    dat$wd_mean=atan2(mean(tmp$v_m.s,na.rm=T)^2,mean(tmp$u_m.s,na.rm=T)^2)\n",
    "    #rotation\n",
    "    rot_wind=rotate_double(tmp$u_m.s,tmp$v_m.s,tmp$w_m.s)\n",
    "    tmp$u_m.s=rot_wind$u\n",
    "    tmp$v_m.s=rot_wind$v\n",
    "    tmp$w_m.s=rot_wind$w\n",
    "    dat$rot_angle1=rot_wind$theta\n",
    "    dat$rot_angle2=rot_wind$phi\n",
    "    #averaging\n",
    "    dat$u_mean[i]=mean(tmp$u_m.s,na.rm=T)\n",
    "    dat$v_mean[i]=mean(tmp$v_m.s,na.rm=T)\n",
    "    dat$w_mean[i]=mean(tmp$w_m.s,na.rm=T)\n",
    "    dat$T_mean[i]=mean(tmp$T_degC,na.rm=T)\n",
    "    dat$q_mean[i]=mean(tmp$H2O_ppt,na.rm=T)\n",
    "    dat$co2_mean[i]=mean(tmp$CO2_ppm,na.rm=T)\n",
    "    dat$u_sd[i]=sd(tmp$u_m.s,na.rm=T)\n",
    "    dat$v_sd[i]=sd(tmp$v_m.s,na.rm=T)\n",
    "    dat$w_sd[i]=sd(tmp$w_m.s,na.rm=T)\n",
    "    dat$T_sd[i]=sd(tmp$T_degC,na.rm=T)\n",
    "    dat$q_sd[i]=sd(tmp$H2O_ppt,na.rm=T)\n",
    "    dat$co2_sd[i]=sd(tmp$CO2_ppm,na.rm=T)\n",
    "    dat$cov_uw[i]=cov(tmp$u_m.s,tmp$w_m.s)\n",
    "    dat$cov_uv[i]=cov(tmp$u_m.s,tmp$v_m.s)\n",
    "    dat$cov_vw[i]=cov(tmp$v_m.s,tmp$w_m.s)\n",
    "    dat$cov_wT[i]=cov(tmp$T_degC,tmp$w_m.s)\n",
    "    dat$cov_qw[i]=cov(tmp$H2O_ppt,tmp$w_m.s)\n",
    "    dat$cov_co2w[i]=cov(tmp$CO2_ppm,tmp$w_m.s)\n",
    "    #SND correction\n",
    "    #cov_wT_snd=SNDcorrection(tmp$u_m.s,tmp$v_m.s,tmp$w_m.s,tmp$T_degC)\n",
    "    #flagging\n",
    "    dat$flag_stationarity[i]=flag_stationarity(tmp$w_m.s,tmp$T_degC)\n",
    "    dat$flag_w[i]=flag_w(dat$w_mean[i])\n",
    "    dat$flag_distortion[i]=flag_distortion(tmp$u_m.s,tmp$v_m.s,dir_blocked=c(340,360))\n",
    "}"
   ]
  },
  {
   "cell_type": "code",
   "execution_count": 7,
   "id": "a61d13c8",
   "metadata": {},
   "outputs": [
    {
     "data": {
      "text/html": [
       "<table class=\"dataframe\">\n",
       "<caption>A data.frame: 6 × 26</caption>\n",
       "<thead>\n",
       "\t<tr><th></th><th scope=col>time</th><th scope=col>u_mean</th><th scope=col>v_mean</th><th scope=col>w_mean</th><th scope=col>ws_mean</th><th scope=col>wd_mean</th><th scope=col>T_mean</th><th scope=col>q_mean</th><th scope=col>co2_mean</th><th scope=col>u_sd</th><th scope=col>⋯</th><th scope=col>cov_uw</th><th scope=col>cov_vw</th><th scope=col>cov_wT</th><th scope=col>cov_qw</th><th scope=col>cov_co2w</th><th scope=col>rot_angle1</th><th scope=col>rot_angle2</th><th scope=col>flag_stationarity</th><th scope=col>flag_w</th><th scope=col>flag_distortion</th></tr>\n",
       "\t<tr><th></th><th scope=col>&lt;chr&gt;</th><th scope=col>&lt;dbl&gt;</th><th scope=col>&lt;dbl&gt;</th><th scope=col>&lt;dbl&gt;</th><th scope=col>&lt;dbl&gt;</th><th scope=col>&lt;dbl&gt;</th><th scope=col>&lt;dbl&gt;</th><th scope=col>&lt;dbl&gt;</th><th scope=col>&lt;dbl&gt;</th><th scope=col>&lt;dbl&gt;</th><th scope=col>⋯</th><th scope=col>&lt;dbl&gt;</th><th scope=col>&lt;dbl&gt;</th><th scope=col>&lt;dbl&gt;</th><th scope=col>&lt;dbl&gt;</th><th scope=col>&lt;dbl&gt;</th><th scope=col>&lt;dbl&gt;</th><th scope=col>&lt;dbl&gt;</th><th scope=col>&lt;lgl&gt;</th><th scope=col>&lt;lgl&gt;</th><th scope=col>&lt;dbl&gt;</th></tr>\n",
       "</thead>\n",
       "<tbody>\n",
       "\t<tr><th scope=row>122</th><td>2018-07-22 23:30:00</td><td>NaN</td><td> 4.899518e-17</td><td>NaN</td><td>4.861716</td><td>1.545955</td><td>11.06795</td><td>13.64986</td><td>377.0789</td><td>NA</td><td>⋯</td><td>NA</td><td>NA</td><td>NA</td><td>NA</td><td>NA</td><td>81.04228</td><td>NA</td><td>NA</td><td>NA</td><td>2</td></tr>\n",
       "\t<tr><th scope=row>123</th><td>2018-07-22 23:30:00</td><td>NaN</td><td>-2.060070e-16</td><td>NaN</td><td>4.861716</td><td>1.545955</td><td>11.06516</td><td>13.67323</td><td>377.2240</td><td>NA</td><td>⋯</td><td>NA</td><td>NA</td><td>NA</td><td>NA</td><td>NA</td><td>81.04228</td><td>NA</td><td>NA</td><td>NA</td><td>2</td></tr>\n",
       "\t<tr><th scope=row>124</th><td>2018-07-22 23:30:00</td><td>NaN</td><td> 4.310967e-16</td><td>NaN</td><td>4.861716</td><td>1.545955</td><td>11.15502</td><td>13.52820</td><td>376.5288</td><td>NA</td><td>⋯</td><td>NA</td><td>NA</td><td>NA</td><td>NA</td><td>NA</td><td>81.04228</td><td>NA</td><td>NA</td><td>NA</td><td>2</td></tr>\n",
       "\t<tr><th scope=row>125</th><td>2018-07-22 23:30:00</td><td>NaN</td><td> 1.620700e-16</td><td>NaN</td><td>4.861716</td><td>1.545955</td><td>11.15232</td><td>13.45455</td><td>376.5365</td><td>NA</td><td>⋯</td><td>NA</td><td>NA</td><td>NA</td><td>NA</td><td>NA</td><td>81.04228</td><td>NA</td><td>NA</td><td>NA</td><td>2</td></tr>\n",
       "\t<tr><th scope=row>126</th><td>2018-07-22 23:30:00</td><td>NaN</td><td> 2.977127e-16</td><td>NaN</td><td>4.861716</td><td>1.545955</td><td>10.78057</td><td>13.53764</td><td>376.5582</td><td>NA</td><td>⋯</td><td>NA</td><td>NA</td><td>NA</td><td>NA</td><td>NA</td><td>81.04228</td><td>NA</td><td>NA</td><td>NA</td><td>2</td></tr>\n",
       "\t<tr><th scope=row>127</th><td>2018-07-22 23:30:00</td><td>NaN</td><td>-2.500325e-16</td><td>NaN</td><td>4.861716</td><td>1.545955</td><td>10.67567</td><td>13.52545</td><td>377.3137</td><td>NA</td><td>⋯</td><td>NA</td><td>NA</td><td>NA</td><td>NA</td><td>NA</td><td>81.04228</td><td>NA</td><td>NA</td><td>NA</td><td>2</td></tr>\n",
       "</tbody>\n",
       "</table>\n"
      ],
      "text/latex": [
       "A data.frame: 6 × 26\n",
       "\\begin{tabular}{r|lllllllllllllllllllll}\n",
       "  & time & u\\_mean & v\\_mean & w\\_mean & ws\\_mean & wd\\_mean & T\\_mean & q\\_mean & co2\\_mean & u\\_sd & ⋯ & cov\\_uw & cov\\_vw & cov\\_wT & cov\\_qw & cov\\_co2w & rot\\_angle1 & rot\\_angle2 & flag\\_stationarity & flag\\_w & flag\\_distortion\\\\\n",
       "  & <chr> & <dbl> & <dbl> & <dbl> & <dbl> & <dbl> & <dbl> & <dbl> & <dbl> & <dbl> & ⋯ & <dbl> & <dbl> & <dbl> & <dbl> & <dbl> & <dbl> & <dbl> & <lgl> & <lgl> & <dbl>\\\\\n",
       "\\hline\n",
       "\t122 & 2018-07-22 23:30:00 & NaN &  4.899518e-17 & NaN & 4.861716 & 1.545955 & 11.06795 & 13.64986 & 377.0789 & NA & ⋯ & NA & NA & NA & NA & NA & 81.04228 & NA & NA & NA & 2\\\\\n",
       "\t123 & 2018-07-22 23:30:00 & NaN & -2.060070e-16 & NaN & 4.861716 & 1.545955 & 11.06516 & 13.67323 & 377.2240 & NA & ⋯ & NA & NA & NA & NA & NA & 81.04228 & NA & NA & NA & 2\\\\\n",
       "\t124 & 2018-07-22 23:30:00 & NaN &  4.310967e-16 & NaN & 4.861716 & 1.545955 & 11.15502 & 13.52820 & 376.5288 & NA & ⋯ & NA & NA & NA & NA & NA & 81.04228 & NA & NA & NA & 2\\\\\n",
       "\t125 & 2018-07-22 23:30:00 & NaN &  1.620700e-16 & NaN & 4.861716 & 1.545955 & 11.15232 & 13.45455 & 376.5365 & NA & ⋯ & NA & NA & NA & NA & NA & 81.04228 & NA & NA & NA & 2\\\\\n",
       "\t126 & 2018-07-22 23:30:00 & NaN &  2.977127e-16 & NaN & 4.861716 & 1.545955 & 10.78057 & 13.53764 & 376.5582 & NA & ⋯ & NA & NA & NA & NA & NA & 81.04228 & NA & NA & NA & 2\\\\\n",
       "\t127 & 2018-07-22 23:30:00 & NaN & -2.500325e-16 & NaN & 4.861716 & 1.545955 & 10.67567 & 13.52545 & 377.3137 & NA & ⋯ & NA & NA & NA & NA & NA & 81.04228 & NA & NA & NA & 2\\\\\n",
       "\\end{tabular}\n"
      ],
      "text/markdown": [
       "\n",
       "A data.frame: 6 × 26\n",
       "\n",
       "| <!--/--> | time &lt;chr&gt; | u_mean &lt;dbl&gt; | v_mean &lt;dbl&gt; | w_mean &lt;dbl&gt; | ws_mean &lt;dbl&gt; | wd_mean &lt;dbl&gt; | T_mean &lt;dbl&gt; | q_mean &lt;dbl&gt; | co2_mean &lt;dbl&gt; | u_sd &lt;dbl&gt; | ⋯ ⋯ | cov_uw &lt;dbl&gt; | cov_vw &lt;dbl&gt; | cov_wT &lt;dbl&gt; | cov_qw &lt;dbl&gt; | cov_co2w &lt;dbl&gt; | rot_angle1 &lt;dbl&gt; | rot_angle2 &lt;dbl&gt; | flag_stationarity &lt;lgl&gt; | flag_w &lt;lgl&gt; | flag_distortion &lt;dbl&gt; |\n",
       "|---|---|---|---|---|---|---|---|---|---|---|---|---|---|---|---|---|---|---|---|---|---|\n",
       "| 122 | 2018-07-22 23:30:00 | NaN |  4.899518e-17 | NaN | 4.861716 | 1.545955 | 11.06795 | 13.64986 | 377.0789 | NA | ⋯ | NA | NA | NA | NA | NA | 81.04228 | NA | NA | NA | 2 |\n",
       "| 123 | 2018-07-22 23:30:00 | NaN | -2.060070e-16 | NaN | 4.861716 | 1.545955 | 11.06516 | 13.67323 | 377.2240 | NA | ⋯ | NA | NA | NA | NA | NA | 81.04228 | NA | NA | NA | 2 |\n",
       "| 124 | 2018-07-22 23:30:00 | NaN |  4.310967e-16 | NaN | 4.861716 | 1.545955 | 11.15502 | 13.52820 | 376.5288 | NA | ⋯ | NA | NA | NA | NA | NA | 81.04228 | NA | NA | NA | 2 |\n",
       "| 125 | 2018-07-22 23:30:00 | NaN |  1.620700e-16 | NaN | 4.861716 | 1.545955 | 11.15232 | 13.45455 | 376.5365 | NA | ⋯ | NA | NA | NA | NA | NA | 81.04228 | NA | NA | NA | 2 |\n",
       "| 126 | 2018-07-22 23:30:00 | NaN |  2.977127e-16 | NaN | 4.861716 | 1.545955 | 10.78057 | 13.53764 | 376.5582 | NA | ⋯ | NA | NA | NA | NA | NA | 81.04228 | NA | NA | NA | 2 |\n",
       "| 127 | 2018-07-22 23:30:00 | NaN | -2.500325e-16 | NaN | 4.861716 | 1.545955 | 10.67567 | 13.52545 | 377.3137 | NA | ⋯ | NA | NA | NA | NA | NA | 81.04228 | NA | NA | NA | 2 |\n",
       "\n"
      ],
      "text/plain": [
       "    time                u_mean v_mean        w_mean ws_mean  wd_mean  T_mean  \n",
       "122 2018-07-22 23:30:00 NaN     4.899518e-17 NaN    4.861716 1.545955 11.06795\n",
       "123 2018-07-22 23:30:00 NaN    -2.060070e-16 NaN    4.861716 1.545955 11.06516\n",
       "124 2018-07-22 23:30:00 NaN     4.310967e-16 NaN    4.861716 1.545955 11.15502\n",
       "125 2018-07-22 23:30:00 NaN     1.620700e-16 NaN    4.861716 1.545955 11.15232\n",
       "126 2018-07-22 23:30:00 NaN     2.977127e-16 NaN    4.861716 1.545955 10.78057\n",
       "127 2018-07-22 23:30:00 NaN    -2.500325e-16 NaN    4.861716 1.545955 10.67567\n",
       "    q_mean   co2_mean u_sd ⋯ cov_uw cov_vw cov_wT cov_qw cov_co2w rot_angle1\n",
       "122 13.64986 377.0789 NA   ⋯ NA     NA     NA     NA     NA       81.04228  \n",
       "123 13.67323 377.2240 NA   ⋯ NA     NA     NA     NA     NA       81.04228  \n",
       "124 13.52820 376.5288 NA   ⋯ NA     NA     NA     NA     NA       81.04228  \n",
       "125 13.45455 376.5365 NA   ⋯ NA     NA     NA     NA     NA       81.04228  \n",
       "126 13.53764 376.5582 NA   ⋯ NA     NA     NA     NA     NA       81.04228  \n",
       "127 13.52545 377.3137 NA   ⋯ NA     NA     NA     NA     NA       81.04228  \n",
       "    rot_angle2 flag_stationarity flag_w flag_distortion\n",
       "122 NA         NA                NA     2              \n",
       "123 NA         NA                NA     2              \n",
       "124 NA         NA                NA     2              \n",
       "125 NA         NA                NA     2              \n",
       "126 NA         NA                NA     2              \n",
       "127 NA         NA                NA     2              "
      ]
     },
     "metadata": {},
     "output_type": "display_data"
    }
   ],
   "source": [
    "tail(dat)"
   ]
  }
 ],
 "metadata": {
  "kernelspec": {
   "display_name": "R",
   "language": "R",
   "name": "ir"
  },
  "language_info": {
   "codemirror_mode": "r",
   "file_extension": ".r",
   "mimetype": "text/x-r-source",
   "name": "R",
   "pygments_lexer": "r",
   "version": "4.0.4"
  }
 },
 "nbformat": 4,
 "nbformat_minor": 5
}
