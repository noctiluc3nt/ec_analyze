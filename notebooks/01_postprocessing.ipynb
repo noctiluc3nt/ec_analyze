{
 "cells": [
  {
   "cell_type": "markdown",
   "id": "6c32d408",
   "metadata": {},
   "source": [
    "# Step 1: Postprocessing of raw eddy-covariance data"
   ]
  },
  {
   "cell_type": "code",
   "execution_count": 1,
   "id": "78d3abf0",
   "metadata": {},
   "outputs": [
    {
     "name": "stderr",
     "output_type": "stream",
     "text": [
      "Installing package into ‘/home/lauracma/R/x86_64-pc-linux-gnu-library/4.0’\n",
      "(as ‘lib’ is unspecified)\n",
      "\n"
     ]
    }
   ],
   "source": [
    "#loading Reddy package\n",
    "install.packages(\"../src/Reddy_0.0.0.9000.tar.gz\",repos=NULL,source=TRUE)\n",
    "library(Reddy)"
   ]
  },
  {
   "cell_type": "code",
   "execution_count": 2,
   "id": "cb5c710c",
   "metadata": {},
   "outputs": [],
   "source": [
    "#ec data files\n",
    "dir_in=\"../data/ec-data_10Hz\"\n",
    "files=list.files(dir_in,full.names=TRUE)\n",
    "nf=length(files)"
   ]
  },
  {
   "cell_type": "code",
   "execution_count": 3,
   "id": "74fe8717",
   "metadata": {},
   "outputs": [],
   "source": [
    "#allocate output\n",
    "var_out=c(\"time\",\"u_mean\",\"v_mean\",\"w_mean\",\"ws_mean\",\"wd_mean\",\"T_mean\",\"q_mean\",\"co2_mean\",\n",
    "          \"u_sd\",\"v_sd\",\"w_sd\",\"T_sd\",\"q_sd\",\"co2_sd\",\n",
    "          \"cov_uv\",\"cov_uw\",\"cov_vw\",\"cov_wT\",\"cov_qw\",\"cov_co2w\",\n",
    "          \"rot_angle1\",\"rot_angle2\",\"flag_stationarity\",\"flag_w\",\"flag_distortion\")\n",
    "nv=length(var_out)\n",
    "dat=data.frame(array(NA,dim=c(nf,nv)))\n",
    "colnames(dat)=var_out"
   ]
  },
  {
   "cell_type": "code",
   "execution_count": 4,
   "id": "8fbc1c9d",
   "metadata": {},
   "outputs": [],
   "source": [
    "#postprocessing per file (30 mins)\n",
    "for (i in 1:nf) {\n",
    "    tmp=read.table(files[i],sep=\",\",header=T)\n",
    "    dat$time=tmp$X[1]\n",
    "    #despiking\n",
    "    tmp$T_degC=despiking(tmp$T_degC,-40,30)\n",
    "    tmp$u_m.s=despiking(tmp$u_m.s,-25,25)\n",
    "    tmp$v_m.s=despiking(tmp$v_m.s,-25,25)\n",
    "    tmp$w_m.s=despiking(tmp$w_m.s,-5,5)\n",
    "    #wind before rotation\n",
    "    dat$ws_mean=sqrt(mean(tmp$u_m.s,na.rm=T)^2+mean(tmp$v_m.s,na.rm=T)^2)\n",
    "    dat$wd_mean=atan2(mean(tmp$v_m.s,na.rm=T)^2,mean(tmp$u_m.s,na.rm=T)^2)\n",
    "    #rotation\n",
    "    rot_wind=rotate_double(tmp$u_m.s,tmp$v_m.s,tmp$w_m.s)\n",
    "    #tmp$u_m.s=rot_wind$u\n",
    "    #tmp$v_m.s=rot_wind$v\n",
    "    #tmp$w_m.s=rot_wind$w\n",
    "    dat$rot_angle1[i]=rot_wind$theta\n",
    "    dat$rot_angle2[i]=rot_wind$phi\n",
    "    #averaging\n",
    "    dat$u_mean[i]=mean(tmp$u_m.s,na.rm=T)\n",
    "    dat$v_mean[i]=mean(tmp$v_m.s,na.rm=T)\n",
    "    dat$w_mean[i]=mean(tmp$w_m.s,na.rm=T)\n",
    "    dat$T_mean[i]=mean(tmp$T_degC,na.rm=T)\n",
    "    dat$q_mean[i]=mean(tmp$H2O_ppt,na.rm=T)\n",
    "    dat$co2_mean[i]=mean(tmp$CO2_ppm,na.rm=T)\n",
    "    dat$u_sd[i]=sd(tmp$u_m.s,na.rm=T)\n",
    "    dat$v_sd[i]=sd(tmp$v_m.s,na.rm=T)\n",
    "    dat$w_sd[i]=sd(tmp$w_m.s,na.rm=T)\n",
    "    dat$T_sd[i]=sd(tmp$T_degC,na.rm=T)\n",
    "    dat$q_sd[i]=sd(tmp$H2O_ppt,na.rm=T)\n",
    "    dat$co2_sd[i]=sd(tmp$CO2_ppm,na.rm=T)\n",
    "    dat$cov_uw[i]=cov(tmp$u_m.s,tmp$w_m.s,use=\"pairwise.complete.obs\")\n",
    "    dat$cov_uv[i]=cov(tmp$u_m.s,tmp$v_m.s,use=\"pairwise.complete.obs\")\n",
    "    dat$cov_vw[i]=cov(tmp$v_m.s,tmp$w_m.s,use=\"pairwise.complete.obs\")\n",
    "    dat$cov_wT[i]=cov(tmp$T_degC,tmp$w_m.s,use=\"pairwise.complete.obs\")\n",
    "    dat$cov_qw[i]=cov(tmp$H2O_ppt,tmp$w_m.s,use=\"pairwise.complete.obs\")\n",
    "    dat$cov_co2w[i]=cov(tmp$CO2_ppm,tmp$w_m.s,use=\"pairwise.complete.obs\")\n",
    "    #SND correction\n",
    "    #cov_wT_snd=SNDcorrection(tmp$u_m.s,tmp$v_m.s,tmp$w_m.s,tmp$T_degC)\n",
    "    #flagging\n",
    "    dat$flag_stationarity[i]=flag_stationarity(tmp$w_m.s,tmp$T_degC)\n",
    "    dat$flag_w[i]=flag_w(dat$w_mean[i])\n",
    "    dat$flag_distortion[i]=flag_distortion(tmp$u_m.s,tmp$v_m.s,dir_blocked=c(340,360))\n",
    "}"
   ]
  },
  {
   "cell_type": "code",
   "execution_count": 5,
   "id": "328f9623",
   "metadata": {},
   "outputs": [
    {
     "name": "stdout",
     "output_type": "stream",
     "text": [
      "'data.frame':\t127 obs. of  26 variables:\n",
      " $ time             : chr  \"2018-07-22 23:30:00\" \"2018-07-22 23:30:00\" \"2018-07-22 23:30:00\" \"2018-07-22 23:30:00\" ...\n",
      " $ u_mean           : num  -1.89 -1.96 -1.79 -1.98 -2.1 ...\n",
      " $ v_mean           : num  -2.16 -2.09 -3.58 -4.59 -4.41 ...\n",
      " $ w_mean           : num  0.0175 0.0387 0.0202 0.0304 0.0556 ...\n",
      " $ ws_mean          : num  4.86 4.86 4.86 4.86 4.86 ...\n",
      " $ wd_mean          : num  1.55 1.55 1.55 1.55 1.55 ...\n",
      " $ T_mean           : num  15.9 16.6 17.1 17.6 18.1 ...\n",
      " $ q_mean           : num  11.12 11.65 11.5 10.43 8.36 ...\n",
      " $ co2_mean         : num  377 376 375 376 376 ...\n",
      " $ u_sd             : num  1.073 0.966 1.125 1.547 1.424 ...\n",
      " $ v_sd             : num  0.875 1.099 1.501 1.344 1.546 ...\n",
      " $ w_sd             : num  0.305 0.334 0.381 0.427 0.461 ...\n",
      " $ T_sd             : num  0.71 0.931 0.942 0.848 0.878 ...\n",
      " $ q_sd             : num  0.485 0.603 0.554 0.872 1.227 ...\n",
      " $ co2_sd           : num  0.794 0.996 0.854 0.747 0.743 ...\n",
      " $ cov_uv           : num  0.2004 0.1448 -0.0663 -0.3215 -0.2089 ...\n",
      " $ cov_uw           : num  0.0341 0.0583 0.0348 0.0301 0.0364 ...\n",
      " $ cov_vw           : num  0.00323 0.02619 0.06801 0.10425 0.08742 ...\n",
      " $ cov_wT           : num  0.104 0.158 0.152 0.154 0.189 ...\n",
      " $ cov_qw           : num  0.0593 0.0935 0.0716 0.071 0.1104 ...\n",
      " $ cov_co2w         : num  -0.0974 -0.1428 -0.1165 -0.0931 -0.1244 ...\n",
      " $ rot_angle1       : num  -131 -133 -117 -113 -115 ...\n",
      " $ rot_angle2       : num  0.348 0.775 0.289 0.348 0.653 ...\n",
      " $ flag_stationarity: num  1 1 1 1 1 1 1 1 1 1 ...\n",
      " $ flag_w           : num  0 0 0 0 0 0 0 0 0 0 ...\n",
      " $ flag_distortion  : num  0 0 0 0 0 0 0 0 0 0 ...\n"
     ]
    }
   ],
   "source": [
    "str(dat)"
   ]
  },
  {
   "cell_type": "code",
   "execution_count": 11,
   "id": "e02f2b8c",
   "metadata": {},
   "outputs": [
    {
     "name": "stderr",
     "output_type": "stream",
     "text": [
      "Warning message in min(x):\n",
      "“no non-missing arguments to min; returning Inf”\n",
      "Warning message in max(x):\n",
      "“no non-missing arguments to max; returning -Inf”\n"
     ]
    },
    {
     "ename": "ERROR",
     "evalue": "Error in plot.window(...): need finite 'ylim' values\n",
     "output_type": "error",
     "traceback": [
      "Error in plot.window(...): need finite 'ylim' values\nTraceback:\n",
      "1. plot(dat$flag_stationarity)",
      "2. plot.default(dat$flag_stationarity)",
      "3. localWindow(xlim, ylim, log, asp, ...)",
      "4. plot.window(...)"
     ]
    },
    {
     "data": {
      "image/png": "[encoded data removed]",
      "text/plain": [
       "plot without title"
      ]
     },
     "metadata": {
      "image/png": {
       "height": 420,
       "width": 420
      }
     },
     "output_type": "display_data"
    }
   ],
   "source": [
    "plot(dat$flag_stationarity)"
   ]
  }
 ],
 "metadata": {
  "kernelspec": {
   "display_name": "R",
   "language": "R",
   "name": "ir"
  },
  "language_info": {
   "codemirror_mode": "r",
   "file_extension": ".r",
   "mimetype": "text/x-r-source",
   "name": "R",
   "pygments_lexer": "r",
   "version": "4.0.4"
  }
 },
 "nbformat": 4,
 "nbformat_minor": 5
}
