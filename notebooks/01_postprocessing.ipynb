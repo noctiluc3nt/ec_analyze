{
 "cells": [
  {
   "cell_type": "markdown",
   "id": "6c32d408",
   "metadata": {},
   "source": [
    "# Step 1: Postprocessing of raw eddy-covariance data"
   ]
  },
  {
   "cell_type": "code",
   "execution_count": 1,
   "id": "78d3abf0",
   "metadata": {},
   "outputs": [
    {
     "name": "stderr",
     "output_type": "stream",
     "text": [
      "Installing package into ‘/home/lauracma/R/x86_64-pc-linux-gnu-library/4.0’\n",
      "(as ‘lib’ is unspecified)\n",
      "\n"
     ]
    }
   ],
   "source": [
    "#loading Reddy package\n",
    "install.packages(\"../src/Reddy_0.0.0.9000.tar.gz\",repos=NULL,source=TRUE)\n",
    "library(Reddy)"
   ]
  },
  {
   "cell_type": "code",
   "execution_count": 12,
   "id": "cb5c710c",
   "metadata": {},
   "outputs": [],
   "source": [
    "#ec data files\n",
    "dir_in=\"../data/ec-data_10Hz_raw\"\n",
    "files=list.files(dir_in,full.names=TRUE)\n",
    "nf=length(files)"
   ]
  },
  {
   "cell_type": "code",
   "execution_count": 13,
   "id": "74fe8717",
   "metadata": {},
   "outputs": [],
   "source": [
    "#allocate output\n",
    "var_out=c(\"time\",\"u_mean\",\"v_mean\",\"w_mean\",\"ws_mean\",\"wd_mean\",\"T_mean\",\"q_mean\",\"co2_mean\",\n",
    "          \"u_sd\",\"v_sd\",\"w_sd\",\"T_sd\",\"q_sd\",\"co2_sd\",\n",
    "          \"cov_uv\",\"cov_uw\",\"cov_vw\",\"cov_wT\",\"cov_qw\",\"cov_co2w\",\n",
    "          \"rot_angle1\",\"rot_angle2\",\"flag_stationarity\",\"flag_w\",\"flag_distortion\")\n",
    "nv=length(var_out)\n",
    "dat=data.frame(array(NA,dim=c(nf,nv)))\n",
    "colnames(dat)=var_out"
   ]
  },
  {
   "cell_type": "code",
   "execution_count": 17,
   "id": "8fbc1c9d",
   "metadata": {},
   "outputs": [],
   "source": [
    "#postprocessing per file (30 mins)\n",
    "for (i in 1:nf) {\n",
    "    tmp=read.table(files[i],sep=\",\",header=T)\n",
    "    dat$time=tmp$X[1]\n",
    "    #despiking\n",
    "    tmp$T_degC=despiking(tmp$T_degC,-40,30)\n",
    "    tmp$u_m.s=despiking(tmp$u_m.s,-25,25)\n",
    "    tmp$v_m.s=despiking(tmp$v_m.s,-25,25)\n",
    "    tmp$w_m.s=despiking(tmp$w_m.s,-5,5)\n",
    "    #wind before rotation\n",
    "    dat$ws_mean[i]=sqrt(mean(tmp$u_m.s,na.rm=T)^2+mean(tmp$v_m.s,na.rm=T)^2)\n",
    "    dat$wd_mean[i]=atan2(mean(tmp$v_m.s,na.rm=T),mean(tmp$u_m.s,na.rm=T))\n",
    "    #rotation\n",
    "    rot_wind=rotate_double(tmp$u_m.s,tmp$v_m.s,tmp$w_m.s)\n",
    "    tmp$u_m.s=rot_wind$u\n",
    "    tmp$v_m.s=rot_wind$v\n",
    "    tmp$w_m.s=rot_wind$w\n",
    "    dat$rot_angle1[i]=rot_wind$theta\n",
    "    dat$rot_angle2[i]=rot_wind$phi\n",
    "    #averaging\n",
    "    dat$u_mean[i]=mean(tmp$u_m.s,na.rm=T)\n",
    "    dat$v_mean[i]=mean(tmp$v_m.s,na.rm=T)\n",
    "    dat$w_mean[i]=mean(tmp$w_m.s,na.rm=T)\n",
    "    dat$T_mean[i]=mean(tmp$T_degC,na.rm=T)\n",
    "    dat$q_mean[i]=mean(tmp$H2O_ppt,na.rm=T)\n",
    "    dat$co2_mean[i]=mean(tmp$CO2_ppm,na.rm=T)\n",
    "    dat$u_sd[i]=sd(tmp$u_m.s,na.rm=T)\n",
    "    dat$v_sd[i]=sd(tmp$v_m.s,na.rm=T)\n",
    "    dat$w_sd[i]=sd(tmp$w_m.s,na.rm=T)\n",
    "    dat$T_sd[i]=sd(tmp$T_degC,na.rm=T)\n",
    "    dat$q_sd[i]=sd(tmp$H2O_ppt,na.rm=T)\n",
    "    dat$co2_sd[i]=sd(tmp$CO2_ppm,na.rm=T)\n",
    "    dat$cov_uw[i]=cov(tmp$u_m.s,tmp$w_m.s,use=\"pairwise.complete.obs\")\n",
    "    dat$cov_uv[i]=cov(tmp$u_m.s,tmp$v_m.s,use=\"pairwise.complete.obs\")\n",
    "    dat$cov_vw[i]=cov(tmp$v_m.s,tmp$w_m.s,use=\"pairwise.complete.obs\")\n",
    "    dat$cov_wT[i]=cov(tmp$T_degC,tmp$w_m.s,use=\"pairwise.complete.obs\")\n",
    "    dat$cov_qw[i]=cov(tmp$H2O_ppt,tmp$w_m.s,use=\"pairwise.complete.obs\")\n",
    "    dat$cov_co2w[i]=cov(tmp$CO2_ppm,tmp$w_m.s,use=\"pairwise.complete.obs\")\n",
    "    #SND correction\n",
    "    #cov_wT_snd=SNDcorrection(tmp$u_m.s,tmp$v_m.s,tmp$w_m.s,tmp$T_degC)\n",
    "    #flagging\n",
    "    dat$flag_stationarity[i]=flag_stationarity(tmp$w_m.s,tmp$T_degC)\n",
    "    dat$flag_w[i]=flag_w(dat$w_mean[i])\n",
    "    dat$flag_distortion[i]=flag_distortion(tmp$u_m.s,tmp$v_m.s,dir_blocked=c(340,360))\n",
    "}"
   ]
  },
  {
   "cell_type": "code",
   "execution_count": 18,
   "id": "328f9623",
   "metadata": {},
   "outputs": [
    {
     "data": {
      "text/html": [
       "<table class=\"dataframe\">\n",
       "<caption>A data.frame: 6 × 26</caption>\n",
       "<thead>\n",
       "\t<tr><th></th><th scope=col>time</th><th scope=col>u_mean</th><th scope=col>v_mean</th><th scope=col>w_mean</th><th scope=col>ws_mean</th><th scope=col>wd_mean</th><th scope=col>T_mean</th><th scope=col>q_mean</th><th scope=col>co2_mean</th><th scope=col>u_sd</th><th scope=col>⋯</th><th scope=col>cov_uw</th><th scope=col>cov_vw</th><th scope=col>cov_wT</th><th scope=col>cov_qw</th><th scope=col>cov_co2w</th><th scope=col>rot_angle1</th><th scope=col>rot_angle2</th><th scope=col>flag_stationarity</th><th scope=col>flag_w</th><th scope=col>flag_distortion</th></tr>\n",
       "\t<tr><th></th><th scope=col>&lt;chr&gt;</th><th scope=col>&lt;dbl&gt;</th><th scope=col>&lt;dbl&gt;</th><th scope=col>&lt;dbl&gt;</th><th scope=col>&lt;dbl&gt;</th><th scope=col>&lt;dbl&gt;</th><th scope=col>&lt;dbl&gt;</th><th scope=col>&lt;dbl&gt;</th><th scope=col>&lt;dbl&gt;</th><th scope=col>&lt;dbl&gt;</th><th scope=col>⋯</th><th scope=col>&lt;dbl&gt;</th><th scope=col>&lt;dbl&gt;</th><th scope=col>&lt;dbl&gt;</th><th scope=col>&lt;dbl&gt;</th><th scope=col>&lt;dbl&gt;</th><th scope=col>&lt;dbl&gt;</th><th scope=col>&lt;dbl&gt;</th><th scope=col>&lt;dbl&gt;</th><th scope=col>&lt;dbl&gt;</th><th scope=col>&lt;lgl&gt;</th></tr>\n",
       "</thead>\n",
       "<tbody>\n",
       "\t<tr><th scope=row>1</th><td>2018-07-22 23:30:00</td><td>2.872084</td><td>-3.939352e-16</td><td> 6.931732e-06</td><td>2.873170</td><td>-2.289284</td><td>15.86938</td><td>11.119238</td><td>377.2578</td><td>1.062143</td><td>⋯</td><td>-0.03118278</td><td> 0.024897073</td><td>0.1052858</td><td>0.05995418</td><td>-0.09842712</td><td>-131.1663</td><td>0.3484284</td><td>1</td><td>0</td><td>NA</td></tr>\n",
       "\t<tr><th scope=row>2</th><td>2018-07-22 23:30:00</td><td>2.864793</td><td> 7.504684e-17</td><td> 9.052527e-08</td><td>2.864538</td><td>-2.326045</td><td>16.55190</td><td>11.652726</td><td>376.1681</td><td>1.105122</td><td>⋯</td><td>-0.07402658</td><td> 0.022741472</td><td>0.1600703</td><td>0.09478121</td><td>-0.14439163</td><td>-133.2726</td><td>0.7745417</td><td>1</td><td>0</td><td>NA</td></tr>\n",
       "\t<tr><th scope=row>3</th><td>2018-07-22 23:30:00</td><td>3.996526</td><td> 9.365292e-16</td><td> 3.049021e-05</td><td>4.002522</td><td>-2.035397</td><td>17.05704</td><td>11.500354</td><td>375.3589</td><td>1.409495</td><td>⋯</td><td>-0.08568719</td><td>-0.001509985</td><td>0.1533514</td><td>0.07214777</td><td>-0.11741832</td><td>-116.6197</td><td>0.2888957</td><td>1</td><td>0</td><td>NA</td></tr>\n",
       "\t<tr><th scope=row>4</th><td>2018-07-22 23:30:00</td><td>4.998016</td><td>-2.812846e-16</td><td>-2.391239e-06</td><td>4.997530</td><td>-1.977737</td><td>17.60447</td><td>10.427265</td><td>376.0030</td><td>1.289326</td><td>⋯</td><td>-0.11664376</td><td>-0.013668165</td><td>0.1556649</td><td>0.07221147</td><td>-0.09500221</td><td>-113.3160</td><td>0.3483120</td><td>1</td><td>0</td><td>NA</td></tr>\n",
       "\t<tr><th scope=row>5</th><td>2018-07-22 23:30:00</td><td>4.879095</td><td> 4.062636e-16</td><td> 2.187117e-05</td><td>4.880696</td><td>-2.014489</td><td>18.08994</td><td> 8.357570</td><td>376.3174</td><td>1.469949</td><td>⋯</td><td>-0.11678821</td><td>-0.007791092</td><td>0.1914488</td><td>0.11200968</td><td>-0.12587227</td><td>-115.4217</td><td>0.6531922</td><td>1</td><td>0</td><td>NA</td></tr>\n",
       "\t<tr><th scope=row>6</th><td>2018-07-22 23:30:00</td><td>5.225037</td><td>-8.977916e-17</td><td>-6.972624e-06</td><td>5.223984</td><td>-2.261205</td><td>18.24207</td><td> 6.835076</td><td>376.8836</td><td>1.319227</td><td>⋯</td><td>-0.12126287</td><td> 0.018796952</td><td>0.1490271</td><td>0.08843027</td><td>-0.08421749</td><td>-129.5575</td><td>0.4471074</td><td>1</td><td>0</td><td>NA</td></tr>\n",
       "</tbody>\n",
       "</table>\n"
      ],
      "text/latex": [
       "A data.frame: 6 × 26\n",
       "\\begin{tabular}{r|lllllllllllllllllllll}\n",
       "  & time & u\\_mean & v\\_mean & w\\_mean & ws\\_mean & wd\\_mean & T\\_mean & q\\_mean & co2\\_mean & u\\_sd & ⋯ & cov\\_uw & cov\\_vw & cov\\_wT & cov\\_qw & cov\\_co2w & rot\\_angle1 & rot\\_angle2 & flag\\_stationarity & flag\\_w & flag\\_distortion\\\\\n",
       "  & <chr> & <dbl> & <dbl> & <dbl> & <dbl> & <dbl> & <dbl> & <dbl> & <dbl> & <dbl> & ⋯ & <dbl> & <dbl> & <dbl> & <dbl> & <dbl> & <dbl> & <dbl> & <dbl> & <dbl> & <lgl>\\\\\n",
       "\\hline\n",
       "\t1 & 2018-07-22 23:30:00 & 2.872084 & -3.939352e-16 &  6.931732e-06 & 2.873170 & -2.289284 & 15.86938 & 11.119238 & 377.2578 & 1.062143 & ⋯ & -0.03118278 &  0.024897073 & 0.1052858 & 0.05995418 & -0.09842712 & -131.1663 & 0.3484284 & 1 & 0 & NA\\\\\n",
       "\t2 & 2018-07-22 23:30:00 & 2.864793 &  7.504684e-17 &  9.052527e-08 & 2.864538 & -2.326045 & 16.55190 & 11.652726 & 376.1681 & 1.105122 & ⋯ & -0.07402658 &  0.022741472 & 0.1600703 & 0.09478121 & -0.14439163 & -133.2726 & 0.7745417 & 1 & 0 & NA\\\\\n",
       "\t3 & 2018-07-22 23:30:00 & 3.996526 &  9.365292e-16 &  3.049021e-05 & 4.002522 & -2.035397 & 17.05704 & 11.500354 & 375.3589 & 1.409495 & ⋯ & -0.08568719 & -0.001509985 & 0.1533514 & 0.07214777 & -0.11741832 & -116.6197 & 0.2888957 & 1 & 0 & NA\\\\\n",
       "\t4 & 2018-07-22 23:30:00 & 4.998016 & -2.812846e-16 & -2.391239e-06 & 4.997530 & -1.977737 & 17.60447 & 10.427265 & 376.0030 & 1.289326 & ⋯ & -0.11664376 & -0.013668165 & 0.1556649 & 0.07221147 & -0.09500221 & -113.3160 & 0.3483120 & 1 & 0 & NA\\\\\n",
       "\t5 & 2018-07-22 23:30:00 & 4.879095 &  4.062636e-16 &  2.187117e-05 & 4.880696 & -2.014489 & 18.08994 &  8.357570 & 376.3174 & 1.469949 & ⋯ & -0.11678821 & -0.007791092 & 0.1914488 & 0.11200968 & -0.12587227 & -115.4217 & 0.6531922 & 1 & 0 & NA\\\\\n",
       "\t6 & 2018-07-22 23:30:00 & 5.225037 & -8.977916e-17 & -6.972624e-06 & 5.223984 & -2.261205 & 18.24207 &  6.835076 & 376.8836 & 1.319227 & ⋯ & -0.12126287 &  0.018796952 & 0.1490271 & 0.08843027 & -0.08421749 & -129.5575 & 0.4471074 & 1 & 0 & NA\\\\\n",
       "\\end{tabular}\n"
      ],
      "text/markdown": [
       "\n",
       "A data.frame: 6 × 26\n",
       "\n",
       "| <!--/--> | time &lt;chr&gt; | u_mean &lt;dbl&gt; | v_mean &lt;dbl&gt; | w_mean &lt;dbl&gt; | ws_mean &lt;dbl&gt; | wd_mean &lt;dbl&gt; | T_mean &lt;dbl&gt; | q_mean &lt;dbl&gt; | co2_mean &lt;dbl&gt; | u_sd &lt;dbl&gt; | ⋯ ⋯ | cov_uw &lt;dbl&gt; | cov_vw &lt;dbl&gt; | cov_wT &lt;dbl&gt; | cov_qw &lt;dbl&gt; | cov_co2w &lt;dbl&gt; | rot_angle1 &lt;dbl&gt; | rot_angle2 &lt;dbl&gt; | flag_stationarity &lt;dbl&gt; | flag_w &lt;dbl&gt; | flag_distortion &lt;lgl&gt; |\n",
       "|---|---|---|---|---|---|---|---|---|---|---|---|---|---|---|---|---|---|---|---|---|---|\n",
       "| 1 | 2018-07-22 23:30:00 | 2.872084 | -3.939352e-16 |  6.931732e-06 | 2.873170 | -2.289284 | 15.86938 | 11.119238 | 377.2578 | 1.062143 | ⋯ | -0.03118278 |  0.024897073 | 0.1052858 | 0.05995418 | -0.09842712 | -131.1663 | 0.3484284 | 1 | 0 | NA |\n",
       "| 2 | 2018-07-22 23:30:00 | 2.864793 |  7.504684e-17 |  9.052527e-08 | 2.864538 | -2.326045 | 16.55190 | 11.652726 | 376.1681 | 1.105122 | ⋯ | -0.07402658 |  0.022741472 | 0.1600703 | 0.09478121 | -0.14439163 | -133.2726 | 0.7745417 | 1 | 0 | NA |\n",
       "| 3 | 2018-07-22 23:30:00 | 3.996526 |  9.365292e-16 |  3.049021e-05 | 4.002522 | -2.035397 | 17.05704 | 11.500354 | 375.3589 | 1.409495 | ⋯ | -0.08568719 | -0.001509985 | 0.1533514 | 0.07214777 | -0.11741832 | -116.6197 | 0.2888957 | 1 | 0 | NA |\n",
       "| 4 | 2018-07-22 23:30:00 | 4.998016 | -2.812846e-16 | -2.391239e-06 | 4.997530 | -1.977737 | 17.60447 | 10.427265 | 376.0030 | 1.289326 | ⋯ | -0.11664376 | -0.013668165 | 0.1556649 | 0.07221147 | -0.09500221 | -113.3160 | 0.3483120 | 1 | 0 | NA |\n",
       "| 5 | 2018-07-22 23:30:00 | 4.879095 |  4.062636e-16 |  2.187117e-05 | 4.880696 | -2.014489 | 18.08994 |  8.357570 | 376.3174 | 1.469949 | ⋯ | -0.11678821 | -0.007791092 | 0.1914488 | 0.11200968 | -0.12587227 | -115.4217 | 0.6531922 | 1 | 0 | NA |\n",
       "| 6 | 2018-07-22 23:30:00 | 5.225037 | -8.977916e-17 | -6.972624e-06 | 5.223984 | -2.261205 | 18.24207 |  6.835076 | 376.8836 | 1.319227 | ⋯ | -0.12126287 |  0.018796952 | 0.1490271 | 0.08843027 | -0.08421749 | -129.5575 | 0.4471074 | 1 | 0 | NA |\n",
       "\n"
      ],
      "text/plain": [
       "  time                u_mean   v_mean        w_mean        ws_mean  wd_mean  \n",
       "1 2018-07-22 23:30:00 2.872084 -3.939352e-16  6.931732e-06 2.873170 -2.289284\n",
       "2 2018-07-22 23:30:00 2.864793  7.504684e-17  9.052527e-08 2.864538 -2.326045\n",
       "3 2018-07-22 23:30:00 3.996526  9.365292e-16  3.049021e-05 4.002522 -2.035397\n",
       "4 2018-07-22 23:30:00 4.998016 -2.812846e-16 -2.391239e-06 4.997530 -1.977737\n",
       "5 2018-07-22 23:30:00 4.879095  4.062636e-16  2.187117e-05 4.880696 -2.014489\n",
       "6 2018-07-22 23:30:00 5.225037 -8.977916e-17 -6.972624e-06 5.223984 -2.261205\n",
       "  T_mean   q_mean    co2_mean u_sd     ⋯ cov_uw      cov_vw       cov_wT   \n",
       "1 15.86938 11.119238 377.2578 1.062143 ⋯ -0.03118278  0.024897073 0.1052858\n",
       "2 16.55190 11.652726 376.1681 1.105122 ⋯ -0.07402658  0.022741472 0.1600703\n",
       "3 17.05704 11.500354 375.3589 1.409495 ⋯ -0.08568719 -0.001509985 0.1533514\n",
       "4 17.60447 10.427265 376.0030 1.289326 ⋯ -0.11664376 -0.013668165 0.1556649\n",
       "5 18.08994  8.357570 376.3174 1.469949 ⋯ -0.11678821 -0.007791092 0.1914488\n",
       "6 18.24207  6.835076 376.8836 1.319227 ⋯ -0.12126287  0.018796952 0.1490271\n",
       "  cov_qw     cov_co2w    rot_angle1 rot_angle2 flag_stationarity flag_w\n",
       "1 0.05995418 -0.09842712 -131.1663  0.3484284  1                 0     \n",
       "2 0.09478121 -0.14439163 -133.2726  0.7745417  1                 0     \n",
       "3 0.07214777 -0.11741832 -116.6197  0.2888957  1                 0     \n",
       "4 0.07221147 -0.09500221 -113.3160  0.3483120  1                 0     \n",
       "5 0.11200968 -0.12587227 -115.4217  0.6531922  1                 0     \n",
       "6 0.08843027 -0.08421749 -129.5575  0.4471074  1                 0     \n",
       "  flag_distortion\n",
       "1 NA             \n",
       "2 NA             \n",
       "3 NA             \n",
       "4 NA             \n",
       "5 NA             \n",
       "6 NA             "
      ]
     },
     "metadata": {},
     "output_type": "display_data"
    }
   ],
   "source": [
    "head(dat)"
   ]
  },
  {
   "cell_type": "code",
   "execution_count": 19,
   "id": "60152a4f",
   "metadata": {},
   "outputs": [],
   "source": [
    "saveRDS(dat,file=\"../data/ec-data_30min_processed/processed_data_example.rds\")"
   ]
  }
 ],
 "metadata": {
  "kernelspec": {
   "display_name": "R",
   "language": "R",
   "name": "ir"
  },
  "language_info": {
   "codemirror_mode": "r",
   "file_extension": ".r",
   "mimetype": "text/x-r-source",
   "name": "R",
   "pygments_lexer": "r",
   "version": "4.0.4"
  }
 },
 "nbformat": 4,
 "nbformat_minor": 5
}
