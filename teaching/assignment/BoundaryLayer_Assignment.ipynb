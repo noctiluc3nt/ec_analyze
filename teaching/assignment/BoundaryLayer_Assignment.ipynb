{
 "cells": [
  {
   "cell_type": "markdown",
   "metadata": {},
   "source": [
    "# Mandatory assignment GEO2310: Boundary Layer\n",
    "## _Analysis of turbulent fluxes between surface and atmosphere_"
   ]
  },
  {
   "cell_type": "markdown",
   "metadata": {},
   "source": [
    "_You may work together on the assignment, but you should all write and hand in individual assigments. Please state with whom you have cooperated with in your hand in._ <br> <br>\n",
    "\n",
    "_In this assignment you will use data from our eddy-covariance tower in Finse. The data used herein is from summer 2018 (representing a typical summer situation regarding the fluxes) with 10 Hz sampling frequency. During the excursion (April 2024) you will get recent data, such that we can (1) interprete the fluxes in the context of the observed weather and (2) compare the summer situation (assignment) with the one in April (excursion). This also means, that it would be clever to think about the reusability of your code, then you could adapt your code from the assignment to a new data set more quickly :)_  <br> <br>\n",
    "\n",
    "\n",
    "_Submission deadline of the assignment: 17.04.2024 23:59 pm_"
   ]
  },
  {
   "cell_type": "markdown",
   "metadata": {},
   "source": [
    "## About the assigment:\n",
    "In part of this assigment you will be using data from a eddy covariance measurement station which is located at Finse on Hardangervidda. The photo below shows the area around the station and the two measurement instruments needed to measure eddy covariance.\n",
    "\n",
    "<img src=\"pic_finse.png\" alt=\"Finse\"\n",
    "\ttitle=\"Finse\" width=\"300\"/>\n",
    "<img src=\"pic_instrument.png\" alt=\"Instrument\"\n",
    "\ttitle=\"Instrument\" width=\"300\"/>\n",
    "\n",
    "**Figure 1:** _Eddy covariance station at Finse in June and January. Gas analyzer and anemometer are placed at 4.4 meters above the surface (without snow cover)._    \n",
    "\n",
    "Exercise 1 and 2 are introductory theory questions which should be answered in writing in the report (you may choose to write them into the jupyter notebook or in a separate document). \n",
    "\n",
    "You may want to spend some time on getting to know pandas for this exercise. Some good places to start may be [here](https://jakevdp.github.io/PythonDataScienceHandbook/03.00-introduction-to-pandas.html) or say [here](https://www.codecademy.com/learn/data-processing-pandas) (I think this is for free with some advertisement). \n",
    "\n"
   ]
  },
  {
   "cell_type": "markdown",
   "metadata": {},
   "source": [
    "### The dataset:\n",
    "#### NB: Unzip the prepared_raw_data.zip before proceeding!\n",
    "For this assignment and out you will work with data from the eddy covariance station at Finse. The raw data contain 10 Hz measurements of \n",
    "- horizontal winds (u_m/s and v_m/s) [m/s]\n",
    "- vertical wind (w_m/s) [m/s]\n",
    "- temperature (T_degC) [$^\\circ$C]\n",
    "- mixing ratio of H$_2$O [ppt -- parts per thousands]\n",
    "- mixing ratio of CO$_2$ [ppm -- parts per million]\n",
    "\n",
    "The files contain data from some days in July 2018 and are split into 30 min intervals. \n",
    "\n",
    "You may use the snippet below to load the files into a pandas dataframe. "
   ]
  },
  {
   "cell_type": "code",
   "execution_count": 2,
   "metadata": {},
   "outputs": [],
   "source": [
    "import glob\n",
    "import os\n",
    "import pandas as pd\n",
    "path = 'prepared_raw_data/' # path to files\n",
    "all_files = glob.glob(os.path.join(path, \"*.csv\")) \n",
    "all_files.sort()\n",
    "df_from_each_file = (pd.read_csv(f,index_col=0,parse_dates=True) for f in all_files)\n",
    "concatenated_df   = pd.concat(df_from_each_file)#.sort_index()\n",
    "dataset = concatenated_df.sort_index()\n",
    "dataset = dataset.asfreq(freq='100L')"
   ]
  },
  {
   "cell_type": "markdown",
   "metadata": {},
   "source": [
    "If you prefer to work with numpy, the data can be extracted into numpy arrays as follows:"
   ]
  },
  {
   "cell_type": "code",
   "execution_count": 3,
   "metadata": {},
   "outputs": [],
   "source": [
    "# Example: extract numpy array from dataset:\n",
    "u=dataset['u_m/s'].values"
   ]
  },
  {
   "cell_type": "code",
   "execution_count": 4,
   "metadata": {
    "jupyter": {
     "outputs_hidden": false
    },
    "scrolled": true
   },
   "outputs": [],
   "source": [
    "# Import useful packages\n",
    "import pandas as pd # import pandas to handle datasets\n",
    "import numpy as np \n",
    "import matplotlib.pyplot as plt\n",
    "\n",
    "rho_a = 1.07 # Tetthet luft kg/m^3 \n",
    "c_p = 1010.0 # Spesikk varmekapasitet ved konstant xtrypp for luft J/K kg\n",
    "Lv = 2.48e6  # Kondensasjonsvarme for vann J/kg\n",
    "Mh2o=0.01802 # molecular weight of water\n",
    "\n",
    "Pa=86000.  # [Pa] Surface pressure at Finse\n",
    "va=279.*8.314/Pa # [m3/mol] Molar volume air. Assume T=279: pV=R*T--> V=R*T/p\n",
    "e = 8.8*1e-3 *Pa # [m3/mol] Molar volume vapor (approximation). Assumed 8.8*10^-3mol/mol mix ratio\n",
    "vd=va*Pa/(Pa-e) # Molar volume dry air \n",
    "\n",
    "\n",
    "# Example: extract numpy array from dataset:\n",
    "u=dataset['u_m/s'].values\n",
    "\n",
    "# Calculate rho_H2O:\n",
    "dataset['rho_H2O'] = dataset['H2O_ppt']*1e-3*Mh2o/vd # [10^3 mol_H2O/mol_air]*[10^-3]*[kg/mol_H2O]/[m3_air/mol_air]-->[kg_H2O/m3_air]"
   ]
  },
  {
   "cell_type": "code",
   "execution_count": 5,
   "metadata": {},
   "outputs": [
    {
     "data": {
      "text/html": [
       "<div>\n",
       "<style scoped>\n",
       "    .dataframe tbody tr th:only-of-type {\n",
       "        vertical-align: middle;\n",
       "    }\n",
       "\n",
       "    .dataframe tbody tr th {\n",
       "        vertical-align: top;\n",
       "    }\n",
       "\n",
       "    .dataframe thead th {\n",
       "        text-align: right;\n",
       "    }\n",
       "</style>\n",
       "<table border=\"1\" class=\"dataframe\">\n",
       "  <thead>\n",
       "    <tr style=\"text-align: right;\">\n",
       "      <th></th>\n",
       "      <th>u_m/s</th>\n",
       "      <th>v_m/s</th>\n",
       "      <th>w_m/s</th>\n",
       "      <th>T_degC</th>\n",
       "      <th>CO2_ppm</th>\n",
       "      <th>H2O_ppt</th>\n",
       "      <th>rho_H2O</th>\n",
       "    </tr>\n",
       "  </thead>\n",
       "  <tbody>\n",
       "    <tr>\n",
       "      <th>2018-07-20 08:30:00.000</th>\n",
       "      <td>-1.45624</td>\n",
       "      <td>-3.14443</td>\n",
       "      <td>0.072588</td>\n",
       "      <td>16.002858</td>\n",
       "      <td>377.083</td>\n",
       "      <td>11.1056</td>\n",
       "      <td>0.007354</td>\n",
       "    </tr>\n",
       "    <tr>\n",
       "      <th>2018-07-20 08:30:00.100</th>\n",
       "      <td>-1.47010</td>\n",
       "      <td>-3.09434</td>\n",
       "      <td>0.125351</td>\n",
       "      <td>16.282851</td>\n",
       "      <td>376.830</td>\n",
       "      <td>11.0770</td>\n",
       "      <td>0.007335</td>\n",
       "    </tr>\n",
       "    <tr>\n",
       "      <th>2018-07-20 08:30:00.200</th>\n",
       "      <td>-1.57426</td>\n",
       "      <td>-2.92186</td>\n",
       "      <td>-0.031325</td>\n",
       "      <td>16.459401</td>\n",
       "      <td>376.561</td>\n",
       "      <td>11.1458</td>\n",
       "      <td>0.007381</td>\n",
       "    </tr>\n",
       "    <tr>\n",
       "      <th>2018-07-20 08:30:00.300</th>\n",
       "      <td>-1.74046</td>\n",
       "      <td>-2.47575</td>\n",
       "      <td>-0.363487</td>\n",
       "      <td>16.422050</td>\n",
       "      <td>376.367</td>\n",
       "      <td>11.2016</td>\n",
       "      <td>0.007418</td>\n",
       "    </tr>\n",
       "    <tr>\n",
       "      <th>2018-07-20 08:30:00.400</th>\n",
       "      <td>-1.88219</td>\n",
       "      <td>-2.33633</td>\n",
       "      <td>-0.272361</td>\n",
       "      <td>16.203082</td>\n",
       "      <td>376.372</td>\n",
       "      <td>11.2533</td>\n",
       "      <td>0.007452</td>\n",
       "    </tr>\n",
       "  </tbody>\n",
       "</table>\n",
       "</div>"
      ],
      "text/plain": [
       "                           u_m/s    v_m/s     w_m/s     T_degC  CO2_ppm  \\\n",
       "2018-07-20 08:30:00.000 -1.45624 -3.14443  0.072588  16.002858  377.083   \n",
       "2018-07-20 08:30:00.100 -1.47010 -3.09434  0.125351  16.282851  376.830   \n",
       "2018-07-20 08:30:00.200 -1.57426 -2.92186 -0.031325  16.459401  376.561   \n",
       "2018-07-20 08:30:00.300 -1.74046 -2.47575 -0.363487  16.422050  376.367   \n",
       "2018-07-20 08:30:00.400 -1.88219 -2.33633 -0.272361  16.203082  376.372   \n",
       "\n",
       "                         H2O_ppt   rho_H2O  \n",
       "2018-07-20 08:30:00.000  11.1056  0.007354  \n",
       "2018-07-20 08:30:00.100  11.0770  0.007335  \n",
       "2018-07-20 08:30:00.200  11.1458  0.007381  \n",
       "2018-07-20 08:30:00.300  11.2016  0.007418  \n",
       "2018-07-20 08:30:00.400  11.2533  0.007452  "
      ]
     },
     "execution_count": 5,
     "metadata": {},
     "output_type": "execute_result"
    }
   ],
   "source": [
    "dataset.head() # Have a look at the dataset"
   ]
  },
  {
   "cell_type": "markdown",
   "metadata": {},
   "source": [
    "### Python tips:"
   ]
  },
  {
   "cell_type": "markdown",
   "metadata": {},
   "source": [
    "To create a linear regression line between variables X and Y:"
   ]
  },
  {
   "cell_type": "code",
   "execution_count": 6,
   "metadata": {},
   "outputs": [
    {
     "data": {
      "text/plain": [
       "[<matplotlib.lines.Line2D at 0x7fba071cf580>]"
      ]
     },
     "execution_count": 6,
     "metadata": {},
     "output_type": "execute_result"
    },
    {
     "data": {
      "image/png": "[encoded data removed]",
      "text/plain": [
       "<Figure size 432x288 with 1 Axes>"
      ]
     },
     "metadata": {
      "needs_background": "light"
     },
     "output_type": "display_data"
    }
   ],
   "source": [
    "from scipy import stats\n",
    "import numpy as np\n",
    "import matplotlib.pyplot as plt\n",
    "X = np.random.random(10)\n",
    "Y=np.random.random(10)\n",
    "slope, intercept, r_value, p_value, std_err = stats.linregress(X,Y)\n",
    "plt.scatter(X,Y)\n",
    "plt.plot(np.linspace(0,1,100), intercept+np.linspace(0,1,100)*slope)"
   ]
  },
  {
   "cell_type": "markdown",
   "metadata": {},
   "source": [
    "**The datetime package:**\n",
    "Example:"
   ]
  },
  {
   "cell_type": "code",
   "execution_count": 7,
   "metadata": {
    "lines_to_next_cell": 2
   },
   "outputs": [
    {
     "name": "stdout",
     "output_type": "stream",
     "text": [
      "2018-07-20 12:00:00\n",
      "2018-07-20 12:30:00\n"
     ]
    }
   ],
   "source": [
    "import datetime\n",
    "start_time = datetime.datetime(year=2018,month=7, day=20, hour=12)\n",
    "print(start_time)\n",
    "dt=datetime.timedelta(minutes=30)\n",
    "print(start_time+dt)"
   ]
  },
  {
   "cell_type": "markdown",
   "metadata": {},
   "source": [
    "#### Pandas tips:\n",
    "If you prefer to work with python, you can extract the data to numpy arrays for example by:\n",
    "```python\n",
    "u=dataset['u_m/s'].values\n",
    "```\n",
    "\n",
    "I suggest, however, that you get to know pandas a litte. It's nice!\n",
    "\n",
    "Useful functions:\n",
    "\n",
    "Exchange \"DataFrame\" below for the name of your dataframe object. \n",
    "\n",
    "```python\n",
    "DataFrame.resample('30min') \n",
    "```\n",
    "Groups your data into 30 min groups. Combine this with some function you would like to apply to these groups, e.g. if you want 30 min avg:\n",
    "```python\n",
    "DataFrame.resample('30min').mean()\n",
    "```"
   ]
  },
  {
   "cell_type": "markdown",
   "metadata": {},
   "source": [
    "## Exercise 1\n",
    "Give a short explenation of the processes that contribute to energy fluxes between the atmosphere and the earth surface. Which processes determine the CO$_2$ flux in this ecosystem?"
   ]
  },
  {
   "cell_type": "markdown",
   "metadata": {},
   "source": [
    "## Exercise 2\n",
    "Explain the principles for measuring latent and sensible heat flux with the eddy covariance method.\n",
    "1. Instruments\n",
    "2. Theory behind the method -- how do we arrive at the equations that we use?\n",
    "3. Necessary assumptions -- What can you say about the instrument placement and the area around it? (google is allowed)"
   ]
  },
  {
   "cell_type": "markdown",
   "metadata": {},
   "source": [
    "## Exercise 3\n",
    "Calculate the mean value and standard deviation for each of the variables for the 30 minuts averaging periods and discuss if the turbulence is stationary in this case. "
   ]
  },
  {
   "cell_type": "code",
   "execution_count": 8,
   "metadata": {
    "lines_to_next_cell": 2
   },
   "outputs": [
    {
     "data": {
      "text/plain": [
       "<pandas.core.resample.DatetimeIndexResampler object at 0x7fba441f2490>"
      ]
     },
     "execution_count": 8,
     "metadata": {},
     "output_type": "execute_result"
    }
   ],
   "source": [
    "import pandas as pd\n",
    "dt_mean30=dataset.resample('30min')\n",
    "dt_mean30"
   ]
  },
  {
   "cell_type": "markdown",
   "metadata": {},
   "source": [
    "## Exercise 4\n",
    "Choose two periods of 1 hour each that look interesting.\n",
    "Run a quadrant analysis for each period. That is:\n",
    "\n",
    "1. Make a scatter plot with T' and w'. Plot also a regression line. Which direction does the flux of sensible heat have? Up or down?\n",
    "2. Make a scatter plot with $\\rho_{H_2O}$' (density of water vapour) and w'. Plot also a regression line. Which direction does the flux of laten heat have? Up or down?\n",
    "3. Make a scatter plot with CO2_ppm' (density of CO$_\n",
    "2$) and w'. Plot also a regression line. Which direction does the flux of CO$_2$ have? Up or down?"
   ]
  },
  {
   "cell_type": "markdown",
   "metadata": {},
   "source": [
    "## Exercise 5:\n",
    "Calculate the vertical flux of sensible and latent heat (units W/m$^2$ for both!) and the CO$_2$ for each averaging period. The calculation should follow the method (the equations) you described in exercise 2. Make a plot that shows how the fluxes vary with time. \n",
    "\n",
    "1. Discuss the results. Which direction does the flux have? Describe the variation throughout the day.\n",
    "2. Can you say something about how the total energy budget at the surface is in this period?\n",
    "3. Is the ecosystem a source or a sink of CO$_2$ during the period?\n",
    "4. What determines/influences the size of the surface area that effects the fluxes (\"flux footprint\")?"
   ]
  },
  {
   "cell_type": "markdown",
   "metadata": {},
   "source": [
    "## Exercise 6:\n",
    "In exercise 3 you calculated the mean vertical wind (w) and you should be able to see that it deviates significantly from zero at times. What could be the cause of this? How will the flux estimates be affected by this? Could you give some other possible sources of errors and uncertainty in the flux estimates at Finse?"
   ]
  },
  {
   "cell_type": "markdown",
   "metadata": {},
   "source": [
    "## Exercise 7:\n",
    "Estimate the turbulent kinetic energy (TKE) in the same periods as used above (30 min). Is there any connection between TKE and the fluxes of latent and sensible heat? "
   ]
  },
  {
   "cell_type": "markdown",
   "metadata": {},
   "source": [
    "## Exercise 8:\n",
    "The file 'biomet_data.csv' contains radiation data and soil heat flux for the same period (and a little more). \n",
    "The relevant fields are\n",
    "- SWIN_6_10_1_1_1: shortwave incoming radiation [W/m$^2$]\n",
    "- SWOUT_6_11_1_1_1: shortwave outgoing radiation [W/m$^2$]\n",
    "- LWIN_6_14_1_1_1: longwave incoming radiation [W/m$^2$]\n",
    "- LWOUT_6_15_1_1_1: longwave outgoing radiation [W/m$^2$]\n",
    "- SHF_6_37_1_1_1: soil heat flux 1 [W/m$^2$]\n",
    "- SHF_6_37_2_1_1: soil heat flux 2 [W/m$^2$] (you can use one of the soil heat fluxes or their mean)\n",
    "\n",
    "Use this to discuss the surface energy balance closure. <br>\n",
    "\n",
    "As hint: The surface energy balance is given by $R_{net} - G = FH + FL$, where $R_{net}$ represents the net radiation. To discuss the closure it is of particular interest to plot $R_{net} - G$ versus $FH + FL$ in a scatter plot (and with linear regression), as well as to look at the residual, i.e., residual = $R_{net} - G - FH - FL$. What does it mean if the residual is not zero (i.e., we say the surface energy balance is not closed)? What could be reasons for this?\n"
   ]
  }
 ],
 "metadata": {
  "jupytext": {
   "text_representation": {
    "extension": ".py",
    "format_name": "percent",
    "format_version": "1.3",
    "jupytext_version": "1.3.2"
   }
  },
  "kernelspec": {
   "display_name": "Python 3",
   "language": "python",
   "name": "python3"
  },
  "language_info": {
   "codemirror_mode": {
    "name": "ipython",
    "version": 3
   },
   "file_extension": ".py",
   "mimetype": "text/x-python",
   "name": "python",
   "nbconvert_exporter": "python",
   "pygments_lexer": "ipython3",
   "version": "3.9.2"
  }
 },
 "nbformat": 4,
 "nbformat_minor": 4
}
